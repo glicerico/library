{
 "cells": [
  {
   "cell_type": "markdown",
   "metadata": {
    "colab_type": "text",
    "id": "view-in-github"
   },
   "source": [
    "<a href=\"https://colab.research.google.com/github/earthspecies/library/blob/master/macaques/introduction.ipynb\" target=\"_parent\"><img src=\"https://colab.research.google.com/assets/colab-badge.svg\" alt=\"Open In Colab\"/></a>"
   ]
  },
  {
   "cell_type": "code",
   "execution_count": 2,
   "metadata": {
    "colab": {},
    "colab_type": "code",
    "id": "z4Xmcn0EIAA4"
   },
   "outputs": [],
   "source": [
    "%%capture\n",
    "import sys\n",
    "if 'google.colab' in sys.modules:\n",
    "  !pip install git+git://github.com/fastai/fastai2.git\n",
    "  !pip install torchaudio\n",
    "\n",
    "from fastai2.vision.all import *\n",
    "import torchaudio"
   ]
  },
  {
   "cell_type": "markdown",
   "metadata": {
    "colab_type": "text",
    "id": "UzCr_fjga0hX"
   },
   "source": [
    "Being able to identify the speaker is believed to be a necessary component of a language.\n",
    "\n",
    "Can you share a way of working with the audio data? This could be very helpful to researchers who might be very familiar with digital signal processing techniques, but who maybe haven't had such a broad exposure to deep learning. Also, there are probably quite a lot of people across the world (students, hobbyists) who could benefit greatly from your work!\n",
    "\n",
    "Below I include some starter code to get you going. Would be great if this could turn into a collaborative effort where we could collect in this repository notebooks from contributors showing various ways of working with the data 🙂\n",
    "\n",
    "To make it even more interesting, I am proposing a particular way of splitting the data into train and validation sets. If you follow this way of splitting in your notebooks, we will be able to compare the results!\n",
    "\n",
    "The dataset we will use is a collection of macaque coo call recordings collected for the [Distributed acoustic cues for caller identity in macaque vocalization](https://www.ncbi.nlm.nih.gov/pmc/articles/PMC4806230/).\n",
    "\n",
    "You can access the URL of the dataset in `fastai` as follows: `URLs.MACAQUES`. The problem is though that some of the samples were recorded using higher sampling rate. The resampling operation is relatively compute intensive and it is prohibitively costly to be run on colab (though I feel this tells more about the throttling colab does to the vCPUs than how expensive the operation is - locally for me it takes 18 seconds, on colab 20 minutes!). Either way, to accommodate people running this code on colab, let's download data that has been already resampled:"
   ]
  },
  {
   "cell_type": "code",
   "execution_count": 3,
   "metadata": {
    "colab": {
     "base_uri": "https://localhost:8080/",
     "height": 17
    },
    "colab_type": "code",
    "id": "jlBLj423a0hY",
    "outputId": "fbc5d104-6bf2-4df3-822f-f56855c34f62"
   },
   "outputs": [],
   "source": [
    "path = untar_data('https://archive.org/download/macaques_24414hz_202007/macaques_24414Hz.zip')"
   ]
  },
  {
   "cell_type": "markdown",
   "metadata": {
    "colab_type": "text",
    "id": "YaNhJPmua0ha"
   },
   "source": [
    "There are 7285 coo calls recorded (stored in wav files) from 8 individuals. They are organized in directories, where a directory groups calls from a single macaque."
   ]
  },
  {
   "cell_type": "code",
   "execution_count": 3,
   "metadata": {
    "colab": {
     "base_uri": "https://localhost:8080/",
     "height": 54
    },
    "colab_type": "code",
    "id": "slOwEPnCa0hb",
    "outputId": "d52e838e-edd2-4e53-82f2-f3c4d42477e9"
   },
   "outputs": [
    {
     "data": {
      "text/plain": [
       "(#8) [Path('/home/radek/.fastai/data/macaques_24414Hz/MU'),Path('/home/radek/.fastai/data/macaques_24414Hz/BE'),Path('/home/radek/.fastai/data/macaques_24414Hz/IO'),Path('/home/radek/.fastai/data/macaques_24414Hz/TH'),Path('/home/radek/.fastai/data/macaques_24414Hz/TW'),Path('/home/radek/.fastai/data/macaques_24414Hz/SN'),Path('/home/radek/.fastai/data/macaques_24414Hz/AL'),Path('/home/radek/.fastai/data/macaques_24414Hz/QU')]"
      ]
     },
     "execution_count": 3,
     "metadata": {},
     "output_type": "execute_result"
    }
   ],
   "source": [
    "path.ls()"
   ]
  },
  {
   "cell_type": "markdown",
   "metadata": {
    "colab_type": "text",
    "id": "NYqiGbQva0he"
   },
   "source": [
    "Let's listen to one of the calls in our browser!"
   ]
  },
  {
   "cell_type": "code",
   "execution_count": 4,
   "metadata": {
    "colab": {},
    "colab_type": "code",
    "id": "4Tlah7cba0he"
   },
   "outputs": [],
   "source": [
    "import pathlib\n",
    "from IPython.display import Audio"
   ]
  },
  {
   "cell_type": "code",
   "execution_count": 5,
   "metadata": {
    "colab": {
     "base_uri": "https://localhost:8080/",
     "height": 54
    },
    "colab_type": "code",
    "id": "6sUk1UZBa0hh",
    "outputId": "642d8aa5-6112-48f4-bcbc-7a9040e4f595"
   },
   "outputs": [
    {
     "data": {
      "text/plain": [
       "(#7285) [Path('/home/radek/.fastai/data/macaques_24414Hz/MU/MU804.wav'),Path('/home/radek/.fastai/data/macaques_24414Hz/MU/MU130.wav'),Path('/home/radek/.fastai/data/macaques_24414Hz/MU/MU272.wav'),Path('/home/radek/.fastai/data/macaques_24414Hz/MU/MU38.wav'),Path('/home/radek/.fastai/data/macaques_24414Hz/MU/MU58.wav'),Path('/home/radek/.fastai/data/macaques_24414Hz/MU/MU2.wav'),Path('/home/radek/.fastai/data/macaques_24414Hz/MU/MU632.wav'),Path('/home/radek/.fastai/data/macaques_24414Hz/MU/MU732.wav'),Path('/home/radek/.fastai/data/macaques_24414Hz/MU/MU503.wav'),Path('/home/radek/.fastai/data/macaques_24414Hz/MU/MU455.wav')...]"
      ]
     },
     "execution_count": 5,
     "metadata": {},
     "output_type": "execute_result"
    }
   ],
   "source": [
    "wav_files = get_files(path); wav_files"
   ]
  },
  {
   "cell_type": "code",
   "execution_count": 6,
   "metadata": {
    "colab": {
     "base_uri": "https://localhost:8080/",
     "height": 75
    },
    "colab_type": "code",
    "id": "upKxG0Sra0hj",
    "outputId": "69108133-ecc7-4453-9722-1fa2a4708a01"
   },
   "outputs": [
    {
     "data": {
      "text/html": [
       "\n",
       "                <audio  controls=\"controls\" >\n",
       "                    <source src=\"data:audio/x-wav;base64,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\" type=\"audio/x-wav\" />\n",
       "                    Your browser does not support the audio element.\n",
       "                </audio>\n",
       "              "
      ],
      "text/plain": [
       "<IPython.lib.display.Audio object>"
      ]
     },
     "execution_count": 6,
     "metadata": {},
     "output_type": "execute_result"
    }
   ],
   "source": [
    "Audio(filename=wav_files[0])"
   ]
  },
  {
   "cell_type": "markdown",
   "metadata": {
    "colab_type": "text",
    "id": "4DJJOP7ya0hn"
   },
   "source": [
    "Did you here the 'coo'? 🙂 Great!\n",
    "\n",
    "This is what the path to a single recording looks like"
   ]
  },
  {
   "cell_type": "code",
   "execution_count": 7,
   "metadata": {
    "colab": {
     "base_uri": "https://localhost:8080/",
     "height": 34
    },
    "colab_type": "code",
    "id": "xL-YdleRa0hn",
    "outputId": "f14bcc4a-c6d8-416a-fc45-3b5e2a279a99"
   },
   "outputs": [
    {
     "data": {
      "text/plain": [
       "Path('/home/radek/.fastai/data/macaques_24414Hz/MU/MU804.wav')"
      ]
     },
     "execution_count": 7,
     "metadata": {},
     "output_type": "execute_result"
    }
   ],
   "source": [
    "wav_files[0]"
   ]
  },
  {
   "cell_type": "markdown",
   "metadata": {
    "colab_type": "text",
    "id": "SD92l5Kta0hp"
   },
   "source": [
    "This recording comes from an individual codenamed 'MU'. We can grab that information from the path as follows:"
   ]
  },
  {
   "cell_type": "code",
   "execution_count": 8,
   "metadata": {
    "colab": {
     "base_uri": "https://localhost:8080/",
     "height": 34
    },
    "colab_type": "code",
    "id": "glevR97Ba0hq",
    "outputId": "49ad6fc1-ce88-4beb-9471-bdf333b6414c"
   },
   "outputs": [
    {
     "data": {
      "text/plain": [
       "'MU'"
      ]
     },
     "execution_count": 8,
     "metadata": {},
     "output_type": "execute_result"
    }
   ],
   "source": [
    "wav_files[0].parent.stem"
   ]
  },
  {
   "cell_type": "markdown",
   "metadata": {
    "colab_type": "text",
    "id": "xjNe5gv_a0hs"
   },
   "source": [
    "Let's read all of the data and see what else we can learn."
   ]
  },
  {
   "cell_type": "code",
   "execution_count": 9,
   "metadata": {
    "colab": {},
    "colab_type": "code",
    "id": "PD7g9A_ja0ht"
   },
   "outputs": [],
   "source": [
    "import librosa # the librosa library makes it very convenient to work with audio files in Python"
   ]
  },
  {
   "cell_type": "code",
   "execution_count": 10,
   "metadata": {
    "colab": {
     "base_uri": "https://localhost:8080/",
     "height": 51
    },
    "colab_type": "code",
    "id": "RnFH4NeOc5W-",
    "outputId": "53c26e02-ca20-46fe-8b24-8d026f01a520"
   },
   "outputs": [
    {
     "name": "stdout",
     "output_type": "stream",
     "text": [
      "CPU times: user 1.82 s, sys: 513 ms, total: 2.33 s\n",
      "Wall time: 4.87 s\n"
     ]
    }
   ],
   "source": [
    "%%time\n",
    "target_rate=24414\n",
    "audio, names = L(), L()\n",
    "\n",
    "for fp in wav_files:\n",
    "    x, rate = torchaudio.load_wav(fp)\n",
    "    if rate != target_rate: \n",
    "      x = torchaudio.transforms.Resample(orig_freq=rate, new_freq=24414, resampling_method='sinc_interpolation')(x)\n",
    "    names.append(fp.parent.stem)\n",
    "    audio.append(x[0] / 32767) # dividing by the max value of a 16bit signed int (this is how the data is stored in a\n",
    "                               # wav file, this normalizes our input to [-1,1])"
   ]
  },
  {
   "cell_type": "markdown",
   "metadata": {
    "colab_type": "text",
    "id": "OPftLZ5Xa0hx"
   },
   "source": [
    "The recording of a sound is nothing more than samples of the air pressure taken by the microphone some number of times (sampling rate) per second. All this gets stored in an array. I've created a bit of a primer on this [here](https://github.com/earthspecies/from_zero_to_DSP), if you would like to learn more."
   ]
  },
  {
   "cell_type": "code",
   "execution_count": 11,
   "metadata": {
    "colab": {
     "base_uri": "https://localhost:8080/",
     "height": 34
    },
    "colab_type": "code",
    "id": "ruFCdvFka0hy",
    "outputId": "ea9cfba6-9caa-4c65-b447-38419b2c7752"
   },
   "outputs": [
    {
     "data": {
      "text/plain": [
       "tensor([-0.0038, -0.0043, -0.0049,  ...,  0.0283,  0.0311,  0.0332])"
      ]
     },
     "execution_count": 11,
     "metadata": {},
     "output_type": "execute_result"
    }
   ],
   "source": [
    "audio[100]"
   ]
  },
  {
   "cell_type": "markdown",
   "metadata": {
    "colab_type": "text",
    "id": "iUHEioiRa0h1"
   },
   "source": [
    "We can listen to the values in the array!"
   ]
  },
  {
   "cell_type": "code",
   "execution_count": 12,
   "metadata": {
    "colab": {
     "base_uri": "https://localhost:8080/",
     "height": 75
    },
    "colab_type": "code",
    "id": "1YO_Tkhna0h2",
    "outputId": "f8ffc48f-a50f-4ea9-d6fa-f04af8ece1a5"
   },
   "outputs": [
    {
     "data": {
      "text/html": [
       "\n",
       "                <audio  controls=\"controls\" >\n",
       "                    <source src=\"data:audio/wav;base64,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\" type=\"audio/wav\" />\n",
       "                    Your browser does not support the audio element.\n",
       "                </audio>\n",
       "              "
      ],
      "text/plain": [
       "<IPython.lib.display.Audio object>"
      ]
     },
     "execution_count": 12,
     "metadata": {},
     "output_type": "execute_result"
    }
   ],
   "source": [
    "Audio(audio[100], rate=rate)"
   ]
  },
  {
   "cell_type": "markdown",
   "metadata": {
    "colab_type": "text",
    "id": "4dryk8Dma0h4"
   },
   "source": [
    "Let's look at the duration of calls by indiviual."
   ]
  },
  {
   "cell_type": "code",
   "execution_count": 13,
   "metadata": {
    "colab": {
     "base_uri": "https://localhost:8080/",
     "height": 265
    },
    "colab_type": "code",
    "id": "VZp8yPDSa0h5",
    "outputId": "fb6334ba-2632-43fc-e4f5-6e838d0f7bfd"
   },
   "outputs": [
    {
     "data": {
      "image/png": "[encoded data removed]",
      "text/plain": [
       "<Figure size 432x288 with 1 Axes>"
      ]
     },
     "metadata": {
      "needs_background": "light"
     },
     "output_type": "display_data"
    }
   ],
   "source": [
    "import seaborn as sns\n",
    "\n",
    "durations = audio.map(len).map(lambda x: x / rate)\n",
    "\n",
    "for name in names.unique():\n",
    "    mask = names.map(lambda x: x == name)\n",
    "    sns.distplot(durations[mask], label=name)\n",
    "plt.legend();"
   ]
  },
  {
   "cell_type": "markdown",
   "metadata": {
    "colab_type": "text",
    "id": "A0h-FQQla0h8"
   },
   "source": [
    "We see that the calls are of varying length (additionaly, some macaques have a preference for longer calls and other for shorter ones!). This is something we will have to address as we prepare the data for our deep learning model.\n",
    "\n",
    "Let us build our dataloaders using the `DataBlock` api! There are several pieces we will have to tell the `DataBlock` api how to do.\n",
    "\n",
    "* how to get all the items from the dataset\n",
    "* how to label the items\n",
    "* how to read in the items before passing them to the model"
   ]
  },
  {
   "cell_type": "markdown",
   "metadata": {
    "colab_type": "text",
    "id": "0PaYKKRua0h8"
   },
   "source": [
    "Getting all the items is going to be easy - the starting point for our items will be the paths pointing to our files. We already know how obtan this using the `get_files` function provided by fastai."
   ]
  },
  {
   "cell_type": "code",
   "execution_count": 14,
   "metadata": {
    "colab": {
     "base_uri": "https://localhost:8080/",
     "height": 54
    },
    "colab_type": "code",
    "id": "GTEeic5Ea0h9",
    "outputId": "ae160d65-a30b-4fd1-fa22-1fe73b5047d2"
   },
   "outputs": [
    {
     "data": {
      "text/plain": [
       "(#7285) [Path('/home/radek/.fastai/data/macaques_24414Hz/MU/MU804.wav'),Path('/home/radek/.fastai/data/macaques_24414Hz/MU/MU130.wav'),Path('/home/radek/.fastai/data/macaques_24414Hz/MU/MU272.wav'),Path('/home/radek/.fastai/data/macaques_24414Hz/MU/MU38.wav'),Path('/home/radek/.fastai/data/macaques_24414Hz/MU/MU58.wav'),Path('/home/radek/.fastai/data/macaques_24414Hz/MU/MU2.wav'),Path('/home/radek/.fastai/data/macaques_24414Hz/MU/MU632.wav'),Path('/home/radek/.fastai/data/macaques_24414Hz/MU/MU732.wav'),Path('/home/radek/.fastai/data/macaques_24414Hz/MU/MU503.wav'),Path('/home/radek/.fastai/data/macaques_24414Hz/MU/MU455.wav')...]"
      ]
     },
     "execution_count": 14,
     "metadata": {},
     "output_type": "execute_result"
    }
   ],
   "source": [
    "get_files(path)"
   ]
  },
  {
   "cell_type": "markdown",
   "metadata": {
    "colab_type": "text",
    "id": "9jve61FCa0h_"
   },
   "source": [
    "Going from an `item` (a path in our case) to a label is going to be straightforward as well. We already saw how can go about this above"
   ]
  },
  {
   "cell_type": "code",
   "execution_count": 15,
   "metadata": {
    "colab": {
     "base_uri": "https://localhost:8080/",
     "height": 34
    },
    "colab_type": "code",
    "id": "5sHNbxvYa0iA",
    "outputId": "13d81c52-4e19-469f-9835-f9732afc07f3"
   },
   "outputs": [
    {
     "data": {
      "text/plain": [
       "'MU'"
      ]
     },
     "execution_count": 15,
     "metadata": {},
     "output_type": "execute_result"
    }
   ],
   "source": [
    "wav_files[0].parent.stem"
   ]
  },
  {
   "cell_type": "markdown",
   "metadata": {
    "colab_type": "text",
    "id": "jGizH9Hfa0iB"
   },
   "source": [
    "We also already know how to read in an audio file as a numpy array. But how do we go from this representation to something that we could train our model on?\n",
    "\n",
    "We could build a model straight on the array, it would be very interesting to see how a model like that could perform.\n",
    "\n",
    "There is also another alternative. We could represent our audio as an image and train a regular CNN classifier on it! For many problems presenting your data as an image before feeding it to a model is a state of the art approach.\n",
    "\n",
    "In the case of audio, it seems this approach can work very well for [some problems](https://ai.googleblog.com/2018/10/acoustic-detection-of-humpback-whales.html), though it also has [some limitations](https://towardsdatascience.com/whats-wrong-with-spectrograms-and-cnns-for-audio-processing-311377d7ccd).\n",
    "\n",
    "Devil is in the details - how we train our model, how we prepare the datasets, how we go from audio to an image, all will play a role in the results we get. This is by no means a solved problem - any results you could show through your work could potentially be very useful.\n",
    "\n",
    "Here is one way we could go about preparing our data.\n",
    "\n",
    "We can use torchaudio as before to read it in."
   ]
  },
  {
   "cell_type": "code",
   "execution_count": 16,
   "metadata": {
    "colab": {},
    "colab_type": "code",
    "id": "t3DRKZtidRib"
   },
   "outputs": [],
   "source": [
    "x, rate = torchaudio.load_wav(fp)\n",
    "if rate != target_rate: \n",
    "  x = torchaudio.transforms.Resample(orig_freq=rate, new_freq=24414, resampling_method='sinc_interpolation')(x)\n",
    "x = x[0] / 32767\n",
    "x = x.numpy()"
   ]
  },
  {
   "cell_type": "markdown",
   "metadata": {
    "colab_type": "text",
    "id": "XdPOPMmWa0iE"
   },
   "source": [
    "And then we can represent the audio as a spectrogram."
   ]
  },
  {
   "cell_type": "code",
   "execution_count": 17,
   "metadata": {
    "colab": {
     "base_uri": "https://localhost:8080/",
     "height": 238
    },
    "colab_type": "code",
    "id": "a4P65rhra0iF",
    "outputId": "6f9cfc09-d1bf-462c-951e-b69cf73ae0c2"
   },
   "outputs": [
    {
     "data": {
      "text/plain": [
       "array([[7.3116412e-04, 4.9158192e-04, 1.3197887e-04, ..., 5.7667471e-06,\n",
       "        1.2439990e-05, 1.8913877e-05],\n",
       "       [7.9804100e-04, 5.4877880e-04, 1.6154349e-04, ..., 7.6912775e-06,\n",
       "        6.1083174e-06, 2.3264793e-06],\n",
       "       [1.0894043e-03, 7.3144934e-04, 1.8364275e-04, ..., 1.8570670e-05,\n",
       "        2.6837508e-05, 2.7642736e-05],\n",
       "       ...,\n",
       "       [4.9136544e-09, 3.7312078e-09, 1.8682698e-09, ..., 1.8022925e-09,\n",
       "        1.6617596e-09, 1.2948131e-09],\n",
       "       [3.6397183e-09, 2.7284268e-09, 1.3661221e-09, ..., 5.5160060e-10,\n",
       "        7.6559781e-10, 1.0791807e-09],\n",
       "       [6.4152177e-09, 4.9053623e-09, 2.4040865e-09, ..., 6.8702066e-10,\n",
       "        6.9230088e-10, 8.9603996e-10]], dtype=float32)"
      ]
     },
     "execution_count": 17,
     "metadata": {},
     "output_type": "execute_result"
    }
   ],
   "source": [
    "spec = librosa.feature.melspectrogram(x, sr=rate, n_fft=1024, hop_length=140); spec"
   ]
  },
  {
   "cell_type": "markdown",
   "metadata": {
    "colab_type": "text",
    "id": "zu6kLBR1a0iI"
   },
   "source": [
    "A spectrogram is a visualization of sound where the y axis corresponds to frequencies and the x axis to samples. The resultant image is a decomposition of audio into frequencies that the signal consists of at any given point in time.\n",
    "\n",
    "This is what our spectrogram would look like."
   ]
  },
  {
   "cell_type": "code",
   "execution_count": 18,
   "metadata": {
    "colab": {
     "base_uri": "https://localhost:8080/",
     "height": 285
    },
    "colab_type": "code",
    "id": "PDXHds3ia0iI",
    "outputId": "996397b1-a9fc-4d6d-c1e1-36b22e012794"
   },
   "outputs": [
    {
     "data": {
      "text/plain": [
       "<matplotlib.image.AxesImage at 0x7f167418e490>"
      ]
     },
     "execution_count": 18,
     "metadata": {},
     "output_type": "execute_result"
    },
    {
     "data": {
      "image/png": "[encoded data removed]",
      "text/plain": [
       "<Figure size 432x288 with 1 Axes>"
      ]
     },
     "metadata": {
      "needs_background": "light"
     },
     "output_type": "display_data"
    }
   ],
   "source": [
    "plt.imshow(spec)"
   ]
  },
  {
   "cell_type": "markdown",
   "metadata": {
    "colab_type": "text",
    "id": "IUZ998Fla0iL"
   },
   "source": [
    "We still have a problem though. We know how to go from audio to an image, but our input arrays are of various length! To make it a little bit easier for our model, let's bring them all to the same size, say one corresponding to the first 0.75 seconds."
   ]
  },
  {
   "cell_type": "code",
   "execution_count": 19,
   "metadata": {
    "colab": {},
    "colab_type": "code",
    "id": "AwZq_g7oa0iL"
   },
   "outputs": [],
   "source": [
    "num_samples = int(0.75 * rate)"
   ]
  },
  {
   "cell_type": "markdown",
   "metadata": {
    "colab_type": "text",
    "id": "cQEmm_iNa0iN"
   },
   "source": [
    "Librosa to the rescue as it provides a very handy utility!"
   ]
  },
  {
   "cell_type": "code",
   "execution_count": 20,
   "metadata": {
    "colab": {},
    "colab_type": "code",
    "id": "k2mF9XS2a0iN"
   },
   "outputs": [],
   "source": [
    "x = librosa.util.fix_length(x, num_samples)\n",
    "spec = librosa.feature.melspectrogram(x, sr=rate, n_fft=1024, hop_length=140)"
   ]
  },
  {
   "cell_type": "code",
   "execution_count": 21,
   "metadata": {
    "colab": {
     "base_uri": "https://localhost:8080/",
     "height": 285
    },
    "colab_type": "code",
    "id": "Y1AH7oFja0iQ",
    "outputId": "5b3d83e1-8a27-4fab-9146-99f08aab286d"
   },
   "outputs": [
    {
     "data": {
      "text/plain": [
       "<matplotlib.image.AxesImage at 0x7f1674103c10>"
      ]
     },
     "execution_count": 21,
     "metadata": {},
     "output_type": "execute_result"
    },
    {
     "data": {
      "image/png": "[encoded data removed]",
      "text/plain": [
       "<Figure size 432x288 with 1 Axes>"
      ]
     },
     "metadata": {
      "needs_background": "light"
     },
     "output_type": "display_data"
    }
   ],
   "source": [
    "plt.imshow(spec)"
   ]
  },
  {
   "cell_type": "markdown",
   "metadata": {
    "colab_type": "text",
    "id": "2HTvnBcLa0iS"
   },
   "source": [
    "Let's pull all of this together. We get our items like this"
   ]
  },
  {
   "cell_type": "code",
   "execution_count": 22,
   "metadata": {
    "colab": {},
    "colab_type": "code",
    "id": "k-Tih0qRa0iS"
   },
   "outputs": [],
   "source": [
    "def get_items(path): return get_files(path)"
   ]
  },
  {
   "cell_type": "markdown",
   "metadata": {
    "colab_type": "text",
    "id": "Yl4SqYmWa0iU"
   },
   "source": [
    "To get our labels from the path we do this"
   ]
  },
  {
   "cell_type": "code",
   "execution_count": 23,
   "metadata": {
    "colab": {},
    "colab_type": "code",
    "id": "NFJ4xxeEa0iV"
   },
   "outputs": [],
   "source": [
    "def get_y(path): return path.parent.stem"
   ]
  },
  {
   "cell_type": "markdown",
   "metadata": {
    "colab_type": "text",
    "id": "McDEn_sea0iX"
   },
   "source": [
    "And to get our image (in the form of a numpy array) from a path we do this"
   ]
  },
  {
   "cell_type": "code",
   "execution_count": 24,
   "metadata": {
    "colab": {},
    "colab_type": "code",
    "id": "IETf_DWIa0ib"
   },
   "outputs": [],
   "source": [
    "def get_x(path, target_rate=24414, num_samples=18310):\n",
    "    x, rate = torchaudio.load_wav(path)\n",
    "    if rate != target_rate: \n",
    "      x = torchaudio.transforms.Resample(orig_freq=rate, new_freq=24414, resampling_method='sinc_interpolation')(x)\n",
    "    x = x[0] / 32767\n",
    "    x = x.numpy()\n",
    "    x = librosa.util.fix_length(x, num_samples)\n",
    "    spec = librosa.feature.melspectrogram(x, sr=rate, n_fft=1024, hop_length=140)\n",
    "    spec = spec / spec.max() * 255 # we want the range of values for our data to be [0, 255]\n",
    "                                   # this way fastai internally will be able to represent it as an image using PIL\n",
    "    return spec.astype(np.uint8)"
   ]
  },
  {
   "cell_type": "markdown",
   "metadata": {
    "colab_type": "text",
    "id": "-AIKMHUja0id"
   },
   "source": [
    "Internally, `ImageBlock` will be use `Image.fromarray` to create our image. Let us see if this will work with the data our get_x returns"
   ]
  },
  {
   "cell_type": "code",
   "execution_count": 25,
   "metadata": {
    "colab": {
     "base_uri": "https://localhost:8080/",
     "height": 145
    },
    "colab_type": "code",
    "id": "gwPNarVca0ie",
    "outputId": "1602d6ee-dd6e-4ca0-9836-bf09085f89d9"
   },
   "outputs": [
    {
     "data": {
      "image/png": "[encoded data removed]",
      "text/plain": [
       "<PIL.Image.Image image mode=L size=131x128 at 0x7F16740BCE90>"
      ]
     },
     "execution_count": 25,
     "metadata": {},
     "output_type": "execute_result"
    }
   ],
   "source": [
    "Image.fromarray(get_x(wav_files[0]).astype(np.uint8))"
   ]
  },
  {
   "cell_type": "markdown",
   "metadata": {
    "colab_type": "text",
    "id": "ipW2s_xEa0ig"
   },
   "source": [
    "voila! Now let's group all of this using the DataBlock API."
   ]
  },
  {
   "cell_type": "code",
   "execution_count": 26,
   "metadata": {
    "colab": {},
    "colab_type": "code",
    "id": "t_c6FN8Ea0ig"
   },
   "outputs": [],
   "source": [
    "db = DataBlock(\n",
    "    blocks=(ImageBlock, CategoryBlock),\n",
    "    get_items=get_items,\n",
    "    get_x=get_x,\n",
    "    get_y=get_y,\n",
    "    splitter=RandomSplitter(seed=42))"
   ]
  },
  {
   "cell_type": "markdown",
   "metadata": {
    "colab_type": "text",
    "id": "tiufvyb1a0ii"
   },
   "source": [
    "The only thing that we added here is the splitter. It will split our data reserving 20% for validation.\n",
    "\n",
    "Please remember to pass in the seed! This way we can keep the split consistent between experiments and will be able to compare various approaches.\n",
    "\n",
    "We can now create dataloaders based on the `DataBlock` we created above."
   ]
  },
  {
   "cell_type": "code",
   "execution_count": 27,
   "metadata": {
    "colab": {},
    "colab_type": "code",
    "id": "XdFEqcaxa0ii"
   },
   "outputs": [],
   "source": [
    "dls = db.dataloaders(path, num_workers=2)"
   ]
  },
  {
   "cell_type": "markdown",
   "metadata": {
    "colab_type": "text",
    "id": "Vr1NYYrta0im"
   },
   "source": [
    "To make sure everything worked, let's take a look at a batch of data."
   ]
  },
  {
   "cell_type": "code",
   "execution_count": 28,
   "metadata": {
    "colab": {
     "base_uri": "https://localhost:8080/",
     "height": 536
    },
    "colab_type": "code",
    "id": "Kw-nlCVia0in",
    "outputId": "02063470-2209-4b6a-fffe-bb4dc13e0bd4"
   },
   "outputs": [
    {
     "data": {
      "image/png": "[encoded data removed]",
      "text/plain": [
       "<Figure size 648x648 with 9 Axes>"
      ]
     },
     "metadata": {
      "needs_background": "light"
     },
     "output_type": "display_data"
    }
   ],
   "source": [
    "dls.show_batch()"
   ]
  },
  {
   "cell_type": "markdown",
   "metadata": {
    "colab_type": "text",
    "id": "LCPxhTRva0io"
   },
   "source": [
    "Time to create and train a model!"
   ]
  },
  {
   "cell_type": "code",
   "execution_count": 29,
   "metadata": {
    "colab": {
     "base_uri": "https://localhost:8080/",
     "height": 209,
     "referenced_widgets": [
      "fa2397bc326c46209d9310a6b91f7425",
      "2700053e7b974856bc826d1115a56243",
      "f9f55bae6d17465881ff8e0c32c26a3c",
      "d320a2e4d1bd43db89bcc12a92d0da80",
      "15001e72a2384ea2a1486ec590875b28",
      "bad8230c12da4ebbb67b018463268713",
      "b91963436fc64c108fbd75ec9aaba36f",
      "922ff1ef057946e5a55a59e701544745"
     ]
    },
    "colab_type": "code",
    "id": "VK2h5XSra0ip",
    "outputId": "e6e57d27-baf6-42f5-92d5-0e9448fd8762"
   },
   "outputs": [
    {
     "name": "stderr",
     "output_type": "stream",
     "text": [
      "Downloading: \"https://download.pytorch.org/models/resnet18-5c106cde.pth\" to /root/.cache/torch/checkpoints/resnet18-5c106cde.pth\n"
     ]
    },
    {
     "data": {
      "application/vnd.jupyter.widget-view+json": {
       "model_id": "fa2397bc326c46209d9310a6b91f7425",
       "version_major": 2,
       "version_minor": 0
      },
      "text/plain": [
       "HBox(children=(IntProgress(value=0, max=46827520), HTML(value='')))"
      ]
     },
     "metadata": {
      "tags": []
     },
     "output_type": "display_data"
    },
    {
     "name": "stdout",
     "output_type": "stream",
     "text": [
      "\n"
     ]
    },
    {
     "data": {
      "text/html": [
       "<table border=\"1\" class=\"dataframe\">\n",
       "  <thead>\n",
       "    <tr style=\"text-align: left;\">\n",
       "      <th>epoch</th>\n",
       "      <th>train_loss</th>\n",
       "      <th>valid_loss</th>\n",
       "      <th>error_rate</th>\n",
       "      <th>time</th>\n",
       "    </tr>\n",
       "  </thead>\n",
       "  <tbody>\n",
       "    <tr>\n",
       "      <td>0</td>\n",
       "      <td>0.674175</td>\n",
       "      <td>0.327306</td>\n",
       "      <td>0.087852</td>\n",
       "      <td>01:28</td>\n",
       "    </tr>\n",
       "  </tbody>\n",
       "</table>"
      ],
      "text/plain": [
       "<IPython.core.display.HTML object>"
      ]
     },
     "metadata": {
      "tags": []
     },
     "output_type": "display_data"
    },
    {
     "data": {
      "text/html": [
       "<table border=\"1\" class=\"dataframe\">\n",
       "  <thead>\n",
       "    <tr style=\"text-align: left;\">\n",
       "      <th>epoch</th>\n",
       "      <th>train_loss</th>\n",
       "      <th>valid_loss</th>\n",
       "      <th>error_rate</th>\n",
       "      <th>time</th>\n",
       "    </tr>\n",
       "  </thead>\n",
       "  <tbody>\n",
       "    <tr>\n",
       "      <td>0</td>\n",
       "      <td>0.307324</td>\n",
       "      <td>0.209452</td>\n",
       "      <td>0.063143</td>\n",
       "      <td>01:28</td>\n",
       "    </tr>\n",
       "  </tbody>\n",
       "</table>"
      ],
      "text/plain": [
       "<IPython.core.display.HTML object>"
      ]
     },
     "metadata": {
      "tags": []
     },
     "output_type": "display_data"
    }
   ],
   "source": [
    "learn = cnn_learner(dls, resnet18, metrics=error_rate)\n",
    "learn.fine_tune(1)"
   ]
  },
  {
   "cell_type": "markdown",
   "metadata": {
    "colab_type": "text",
    "id": "0RoZcTnIa0ir"
   },
   "source": [
    "A 5.6% error rate! Let's see how we are doing across classes ..."
   ]
  },
  {
   "cell_type": "code",
   "execution_count": 30,
   "metadata": {
    "colab": {
     "base_uri": "https://localhost:8080/",
     "height": 743
    },
    "colab_type": "code",
    "id": "LAU5GVsma0is",
    "outputId": "7bfb37b8-00c7-4950-99d5-0a6fd743fbd7"
   },
   "outputs": [
    {
     "data": {
      "text/html": [],
      "text/plain": [
       "<IPython.core.display.HTML object>"
      ]
     },
     "metadata": {
      "tags": []
     },
     "output_type": "display_data"
    },
    {
     "data": {
      "image/png": "[encoded data removed]",
      "text/plain": [
       "<Figure size 720x720 with 1 Axes>"
      ]
     },
     "metadata": {
      "tags": []
     },
     "output_type": "display_data"
    }
   ],
   "source": [
    "interp = ClassificationInterpretation.from_learner(learn)\n",
    "interp.plot_confusion_matrix(figsize=(12,12), dpi=60)"
   ]
  },
  {
   "cell_type": "markdown",
   "metadata": {
    "colab_type": "text",
    "id": "QfopbavFa0it"
   },
   "source": [
    "Overall, the performance is good. But can you do better? Can you achieve an overall better result? Can you share an interesting way of working with the data? What other models than a CNN can you train?\n",
    "\n",
    "Please make sure to create a pull request with your work so that others can learn from you! "
   ]
  },
  {
   "cell_type": "code",
   "execution_count": null,
   "metadata": {},
   "outputs": [],
   "source": []
  }
 ],
 "metadata": {
  "accelerator": "GPU",
  "colab": {
   "include_colab_link": true,
   "name": "Introduction.ipynb",
   "provenance": []
  },
  "kernelspec": {
   "display_name": "Python 3",
   "language": "python",
   "name": "python3"
  },
  "language_info": {
   "codemirror_mode": {
    "name": "ipython",
    "version": 3
   },
   "file_extension": ".py",
   "mimetype": "text/x-python",
   "name": "python",
   "nbconvert_exporter": "python",
   "pygments_lexer": "ipython3",
   "version": "3.7.6"
  },
  "widgets": {
   "application/vnd.jupyter.widget-state+json": {
    "15001e72a2384ea2a1486ec590875b28": {
     "model_module": "@jupyter-widgets/controls",
     "model_name": "ProgressStyleModel",
     "state": {
      "_model_module": "@jupyter-widgets/controls",
      "_model_module_version": "1.5.0",
      "_model_name": "ProgressStyleModel",
      "_view_count": null,
      "_view_module": "@jupyter-widgets/base",
      "_view_module_version": "1.2.0",
      "_view_name": "StyleView",
      "bar_color": null,
      "description_width": "initial"
     }
    },
    "2700053e7b974856bc826d1115a56243": {
     "model_module": "@jupyter-widgets/base",
     "model_name": "LayoutModel",
     "state": {
      "_model_module": "@jupyter-widgets/base",
      "_model_module_version": "1.2.0",
      "_model_name": "LayoutModel",
      "_view_count": null,
      "_view_module": "@jupyter-widgets/base",
      "_view_module_version": "1.2.0",
      "_view_name": "LayoutView",
      "align_content": null,
      "align_items": null,
      "align_self": null,
      "border": null,
      "bottom": null,
      "display": null,
      "flex": null,
      "flex_flow": null,
      "grid_area": null,
      "grid_auto_columns": null,
      "grid_auto_flow": null,
      "grid_auto_rows": null,
      "grid_column": null,
      "grid_gap": null,
      "grid_row": null,
      "grid_template_areas": null,
      "grid_template_columns": null,
      "grid_template_rows": null,
      "height": null,
      "justify_content": null,
      "justify_items": null,
      "left": null,
      "margin": null,
      "max_height": null,
      "max_width": null,
      "min_height": null,
      "min_width": null,
      "object_fit": null,
      "object_position": null,
      "order": null,
      "overflow": null,
      "overflow_x": null,
      "overflow_y": null,
      "padding": null,
      "right": null,
      "top": null,
      "visibility": null,
      "width": null
     }
    },
    "922ff1ef057946e5a55a59e701544745": {
     "model_module": "@jupyter-widgets/base",
     "model_name": "LayoutModel",
     "state": {
      "_model_module": "@jupyter-widgets/base",
      "_model_module_version": "1.2.0",
      "_model_name": "LayoutModel",
      "_view_count": null,
      "_view_module": "@jupyter-widgets/base",
      "_view_module_version": "1.2.0",
      "_view_name": "LayoutView",
      "align_content": null,
      "align_items": null,
      "align_self": null,
      "border": null,
      "bottom": null,
      "display": null,
      "flex": null,
      "flex_flow": null,
      "grid_area": null,
      "grid_auto_columns": null,
      "grid_auto_flow": null,
      "grid_auto_rows": null,
      "grid_column": null,
      "grid_gap": null,
      "grid_row": null,
      "grid_template_areas": null,
      "grid_template_columns": null,
      "grid_template_rows": null,
      "height": null,
      "justify_content": null,
      "justify_items": null,
      "left": null,
      "margin": null,
      "max_height": null,
      "max_width": null,
      "min_height": null,
      "min_width": null,
      "object_fit": null,
      "object_position": null,
      "order": null,
      "overflow": null,
      "overflow_x": null,
      "overflow_y": null,
      "padding": null,
      "right": null,
      "top": null,
      "visibility": null,
      "width": null
     }
    },
    "b91963436fc64c108fbd75ec9aaba36f": {
     "model_module": "@jupyter-widgets/controls",
     "model_name": "DescriptionStyleModel",
     "state": {
      "_model_module": "@jupyter-widgets/controls",
      "_model_module_version": "1.5.0",
      "_model_name": "DescriptionStyleModel",
      "_view_count": null,
      "_view_module": "@jupyter-widgets/base",
      "_view_module_version": "1.2.0",
      "_view_name": "StyleView",
      "description_width": ""
     }
    },
    "bad8230c12da4ebbb67b018463268713": {
     "model_module": "@jupyter-widgets/base",
     "model_name": "LayoutModel",
     "state": {
      "_model_module": "@jupyter-widgets/base",
      "_model_module_version": "1.2.0",
      "_model_name": "LayoutModel",
      "_view_count": null,
      "_view_module": "@jupyter-widgets/base",
      "_view_module_version": "1.2.0",
      "_view_name": "LayoutView",
      "align_content": null,
      "align_items": null,
      "align_self": null,
      "border": null,
      "bottom": null,
      "display": null,
      "flex": null,
      "flex_flow": null,
      "grid_area": null,
      "grid_auto_columns": null,
      "grid_auto_flow": null,
      "grid_auto_rows": null,
      "grid_column": null,
      "grid_gap": null,
      "grid_row": null,
      "grid_template_areas": null,
      "grid_template_columns": null,
      "grid_template_rows": null,
      "height": null,
      "justify_content": null,
      "justify_items": null,
      "left": null,
      "margin": null,
      "max_height": null,
      "max_width": null,
      "min_height": null,
      "min_width": null,
      "object_fit": null,
      "object_position": null,
      "order": null,
      "overflow": null,
      "overflow_x": null,
      "overflow_y": null,
      "padding": null,
      "right": null,
      "top": null,
      "visibility": null,
      "width": null
     }
    },
    "d320a2e4d1bd43db89bcc12a92d0da80": {
     "model_module": "@jupyter-widgets/controls",
     "model_name": "HTMLModel",
     "state": {
      "_dom_classes": [],
      "_model_module": "@jupyter-widgets/controls",
      "_model_module_version": "1.5.0",
      "_model_name": "HTMLModel",
      "_view_count": null,
      "_view_module": "@jupyter-widgets/controls",
      "_view_module_version": "1.5.0",
      "_view_name": "HTMLView",
      "description": "",
      "description_tooltip": null,
      "layout": "IPY_MODEL_922ff1ef057946e5a55a59e701544745",
      "placeholder": "​",
      "style": "IPY_MODEL_b91963436fc64c108fbd75ec9aaba36f",
      "value": " 44.7M/44.7M [03:16&lt;00:00, 238kB/s]"
     }
    },
    "f9f55bae6d17465881ff8e0c32c26a3c": {
     "model_module": "@jupyter-widgets/controls",
     "model_name": "IntProgressModel",
     "state": {
      "_dom_classes": [],
      "_model_module": "@jupyter-widgets/controls",
      "_model_module_version": "1.5.0",
      "_model_name": "IntProgressModel",
      "_view_count": null,
      "_view_module": "@jupyter-widgets/controls",
      "_view_module_version": "1.5.0",
      "_view_name": "ProgressView",
      "bar_style": "success",
      "description": "100%",
      "description_tooltip": null,
      "layout": "IPY_MODEL_bad8230c12da4ebbb67b018463268713",
      "max": 46827520,
      "min": 0,
      "orientation": "horizontal",
      "style": "IPY_MODEL_15001e72a2384ea2a1486ec590875b28",
      "value": 46827520
     }
    },
    "fa2397bc326c46209d9310a6b91f7425": {
     "model_module": "@jupyter-widgets/controls",
     "model_name": "HBoxModel",
     "state": {
      "_dom_classes": [],
      "_model_module": "@jupyter-widgets/controls",
      "_model_module_version": "1.5.0",
      "_model_name": "HBoxModel",
      "_view_count": null,
      "_view_module": "@jupyter-widgets/controls",
      "_view_module_version": "1.5.0",
      "_view_name": "HBoxView",
      "box_style": "",
      "children": [
       "IPY_MODEL_f9f55bae6d17465881ff8e0c32c26a3c",
       "IPY_MODEL_d320a2e4d1bd43db89bcc12a92d0da80"
      ],
      "layout": "IPY_MODEL_2700053e7b974856bc826d1115a56243"
     }
    }
   }
  }
 },
 "nbformat": 4,
 "nbformat_minor": 4
}
